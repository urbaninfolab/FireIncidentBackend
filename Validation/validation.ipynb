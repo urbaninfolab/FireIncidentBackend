{
 "cells": [
  {
   "cell_type": "markdown",
   "metadata": {},
   "source": [
    "## Air Quality Simulation Validation Analysis\n",
    "\n",
    "This Jupyter notebook presents a step-by-step analysis to validate an air quality simulation against empirical data collected from field readings. The simulation predicts different air quality levels (AQI) based on distances from a control burn source, while the field readings provide actual AQI values at various distances.\n"
   ]
  },
  {
   "cell_type": "code",
   "execution_count": 2,
   "metadata": {},
   "outputs": [
    {
     "name": "stdout",
     "output_type": "stream",
     "text": [
      "Requirement already satisfied: pandas in c:\\users\\cortanium\\miniconda3\\lib\\site-packages (from -r requirements.txt (line 1)) (2.1.1)\n",
      "Collecting openpyxl (from -r requirements.txt (line 2))\n",
      "  Using cached openpyxl-3.1.2-py2.py3-none-any.whl (249 kB)\n",
      "Requirement already satisfied: numpy>=1.23.2 in c:\\users\\cortanium\\miniconda3\\lib\\site-packages (from pandas->-r requirements.txt (line 1)) (1.26.1)\n",
      "Requirement already satisfied: python-dateutil>=2.8.2 in c:\\users\\cortanium\\miniconda3\\lib\\site-packages (from pandas->-r requirements.txt (line 1)) (2.8.2)\n",
      "Requirement already satisfied: pytz>=2020.1 in c:\\users\\cortanium\\miniconda3\\lib\\site-packages (from pandas->-r requirements.txt (line 1)) (2023.3.post1)\n",
      "Requirement already satisfied: tzdata>=2022.1 in c:\\users\\cortanium\\miniconda3\\lib\\site-packages (from pandas->-r requirements.txt (line 1)) (2023.3)\n",
      "Collecting et-xmlfile (from openpyxl->-r requirements.txt (line 2))\n",
      "  Using cached et_xmlfile-1.1.0-py3-none-any.whl (4.7 kB)\n",
      "Requirement already satisfied: six>=1.5 in c:\\users\\cortanium\\miniconda3\\lib\\site-packages (from python-dateutil>=2.8.2->pandas->-r requirements.txt (line 1)) (1.16.0)\n",
      "Installing collected packages: et-xmlfile, openpyxl\n",
      "Successfully installed et-xmlfile-1.1.0 openpyxl-3.1.2\n",
      "Note: you may need to restart the kernel to use updated packages.\n"
     ]
    }
   ],
   "source": [
    "%pip install -r requirements.txt"
   ]
  },
  {
   "cell_type": "markdown",
   "metadata": {},
   "source": [
    "### Importing the Field Data"
   ]
  },
  {
   "cell_type": "code",
   "execution_count": 3,
   "metadata": {},
   "outputs": [
    {
     "data": {
      "text/html": [
       "<div>\n",
       "<style scoped>\n",
       "    .dataframe tbody tr th:only-of-type {\n",
       "        vertical-align: middle;\n",
       "    }\n",
       "\n",
       "    .dataframe tbody tr th {\n",
       "        vertical-align: top;\n",
       "    }\n",
       "\n",
       "    .dataframe thead th {\n",
       "        text-align: right;\n",
       "    }\n",
       "</style>\n",
       "<table border=\"1\" class=\"dataframe\">\n",
       "  <thead>\n",
       "    <tr style=\"text-align: right;\">\n",
       "      <th></th>\n",
       "      <th>Time</th>\n",
       "      <th>Sensor A</th>\n",
       "      <th>Sensor B</th>\n",
       "      <th>AVG A</th>\n",
       "      <th>AVG B</th>\n",
       "      <th>Distance</th>\n",
       "      <th>Wind Direction</th>\n",
       "      <th>Wind Speed</th>\n",
       "      <th>AVG Reading</th>\n",
       "    </tr>\n",
       "  </thead>\n",
       "  <tbody>\n",
       "    <tr>\n",
       "      <th>0</th>\n",
       "      <td>01:00:00</td>\n",
       "      <td>766</td>\n",
       "      <td>821</td>\n",
       "      <td>848</td>\n",
       "      <td>899</td>\n",
       "      <td>100.0</td>\n",
       "      <td>S</td>\n",
       "      <td>5</td>\n",
       "      <td>873.5</td>\n",
       "    </tr>\n",
       "    <tr>\n",
       "      <th>1</th>\n",
       "      <td>01:07:00</td>\n",
       "      <td>416</td>\n",
       "      <td>476</td>\n",
       "      <td>482</td>\n",
       "      <td>477</td>\n",
       "      <td>150.0</td>\n",
       "      <td>S</td>\n",
       "      <td>5</td>\n",
       "      <td>479.5</td>\n",
       "    </tr>\n",
       "    <tr>\n",
       "      <th>2</th>\n",
       "      <td>01:11:00</td>\n",
       "      <td>251</td>\n",
       "      <td>252</td>\n",
       "      <td>275</td>\n",
       "      <td>265</td>\n",
       "      <td>200.0</td>\n",
       "      <td>S</td>\n",
       "      <td>5</td>\n",
       "      <td>270.0</td>\n",
       "    </tr>\n",
       "    <tr>\n",
       "      <th>3</th>\n",
       "      <td>01:20:00</td>\n",
       "      <td>338</td>\n",
       "      <td>302</td>\n",
       "      <td>235</td>\n",
       "      <td>224</td>\n",
       "      <td>200.0</td>\n",
       "      <td>NaN</td>\n",
       "      <td>NaN</td>\n",
       "      <td>229.5</td>\n",
       "    </tr>\n",
       "    <tr>\n",
       "      <th>4</th>\n",
       "      <td>NaN</td>\n",
       "      <td>NaN</td>\n",
       "      <td>NaN</td>\n",
       "      <td>NaN</td>\n",
       "      <td>NaN</td>\n",
       "      <td>NaN</td>\n",
       "      <td>NaN</td>\n",
       "      <td>NaN</td>\n",
       "      <td>NaN</td>\n",
       "    </tr>\n",
       "  </tbody>\n",
       "</table>\n",
       "</div>"
      ],
      "text/plain": [
       "       Time Sensor A Sensor B AVG A AVG B  Distance Wind Direction Wind Speed  \\\n",
       "0  01:00:00      766      821   848   899     100.0              S          5   \n",
       "1  01:07:00      416      476   482   477     150.0              S          5   \n",
       "2  01:11:00      251      252   275   265     200.0              S          5   \n",
       "3  01:20:00      338      302   235   224     200.0            NaN        NaN   \n",
       "4       NaN      NaN      NaN   NaN   NaN       NaN            NaN        NaN   \n",
       "\n",
       "  AVG Reading  \n",
       "0       873.5  \n",
       "1       479.5  \n",
       "2       270.0  \n",
       "3       229.5  \n",
       "4         NaN  "
      ]
     },
     "execution_count": 3,
     "metadata": {},
     "output_type": "execute_result"
    }
   ],
   "source": [
    "import pandas as pd\n",
    "\n",
    "# Load the data from the provided Excel file\n",
    "file_path = 'Control Burn AQM Data 27Jan23.xlsx'\n",
    "data = pd.read_excel(file_path, skiprows=2)\n",
    "\n",
    "# Splitting and cleaning the data for Site 1\n",
    "site_1_data = data.iloc[:, 1:9]  # Selecting columns for Site 1\n",
    "site_1_columns = ['Time', 'Sensor A', 'Sensor B', 'AVG A', 'AVG B', 'Distance', 'Wind Direction', 'Wind Speed']\n",
    "site_1_data.columns = site_1_columns\n",
    "site_1_data = site_1_data[site_1_data['Time'] != 'Time']\n",
    "site_1_data['AVG Reading'] = site_1_data[['AVG A', 'AVG B']].mean(axis=1)\n",
    "site_1_data['Distance'] = pd.to_numeric(site_1_data['Distance'], errors='coerce')\n",
    "\n",
    "# Displaying the cleaned data for Site 1\n",
    "site_1_data.head()"
   ]
  },
  {
   "cell_type": "code",
   "execution_count": 4,
   "metadata": {},
   "outputs": [
    {
     "data": {
      "text/plain": [
       "-0.4747061412905016"
      ]
     },
     "execution_count": 4,
     "metadata": {},
     "output_type": "execute_result"
    }
   ],
   "source": [
    "# Calculating the correlation coefficient for Site 1\n",
    "correlation_site_1 = site_1_data['AVG Reading'].corr(site_1_data['Distance'])\n",
    "correlation_site_1"
   ]
  },
  {
   "cell_type": "markdown",
   "metadata": {},
   "source": [
    "We note a **negative** correlation between distance and AQI, which is expected as the smoke disperses and the air quality generally gets better further away from the fire source."
   ]
  },
  {
   "cell_type": "markdown",
   "metadata": {},
   "source": [
    "### Comparing Simulation to Actual\n",
    "\n",
    "We note that our simulation can be retrieved from:\n",
    "\n",
    "https://weather.gfc.state.ga.us/googlevsmoke/cgi-bin/runvsmoke.py?lat=30.176749&lon=-97.870600&acres=0.3&erate=0.6818181818181818&hrate=0.739949494949495&mix=2000&wspd=5&wdir=0.1&stclass=2&frise=-0.50\n",
    "\n",
    "which has the parameters defined in the URL.\n",
    "\n",
    "Measuring the simulation linearly to correspond to our air sensors puts the hazardous region at approximately 0-120ft, very unhealthy at 120-210ft, unhealthy at 470-700ft, and hazardous for sensitive groups at 700-1200ft."
   ]
  },
  {
   "cell_type": "code",
   "execution_count": 7,
   "metadata": {},
   "outputs": [
    {
     "data": {
      "text/plain": [
       "72.72727272727273"
      ]
     },
     "execution_count": 7,
     "metadata": {},
     "output_type": "execute_result"
    }
   ],
   "source": [
    "# Defining AQI categories and assigning them to the readings\n",
    "aqi_categories = {\n",
    "    'Hazardous': (301, 500, 526),\n",
    "    'Very Unhealthy': (201, 300, 351),\n",
    "    'Unhealthy': (151, 200, 138),\n",
    "    'Unhealthy for Sensitive Groups': (101, 150, 88),\n",
    "    'Moderate': (51, 100, 38),\n",
    "    'Good': (0, 50, 12)\n",
    "}\n",
    "\n",
    "def assign_aqi_category(pm_value):\n",
    "    for category, (aqi_low, aqi_high, pm_high) in aqi_categories.items():\n",
    "        if pm_value <= pm_high:\n",
    "            return category\n",
    "    return 'Beyond Index'\n",
    "\n",
    "site_1_data['AQI Category'] = site_1_data['AVG Reading'].apply(assign_aqi_category)\n",
    "\n",
    "# Displaying the data with assigned AQI categories\n",
    "site_1_data[['Distance', 'AVG Reading', 'AQI Category']].head()\n",
    "\"\"\")\n",
    "\n",
    "# Cell 5: Validating Simulation Accuracy\n",
    "cell5 = nbf.v4.new_code_cell(\"\"\"\n",
    "# Comparing the AQI categories with the simulation distances\n",
    "distance_categories = {\n",
    "    'Hazardous': 120,\n",
    "    'Very Unhealthy': 210,\n",
    "    'Unhealthy': 470,\n",
    "    'Unhealthy for Sensitive Groups': 700,\n",
    "    'Moderate': 1200,\n",
    "}\n",
    "\n",
    "def does_reading_match_distance(aqi_category, distance):\n",
    "    if pd.isnull(distance):\n",
    "        return 'Unknown'\n",
    "    sim_distance = distance_categories.get(aqi_category, float('inf'))\n",
    "    return distance <= sim_distance\n",
    "\n",
    "site_1_data['Matches Simulation'] = site_1_data.apply(\n",
    "    lambda row: does_reading_match_distance(row['AQI Category'], row['Distance']), axis=1)\n",
    "\n",
    "match_counts = site_1_data['Matches Simulation'].value_counts()\n",
    "accuracy_percentage = (match_counts[True] / (match_counts[True] + match_counts[False])) * 100\n",
    "\n",
    "accuracy_percentage\n"
   ]
  },
  {
   "cell_type": "code",
   "execution_count": 6,
   "metadata": {},
   "outputs": [
    {
     "name": "stderr",
     "output_type": "stream",
     "text": [
      "C:\\Users\\cortanium\\AppData\\Local\\Temp\\ipykernel_2844\\2332323582.py:12: SettingWithCopyWarning: \n",
      "A value is trying to be set on a copy of a slice from a DataFrame.\n",
      "Try using .loc[row_indexer,col_indexer] = value instead\n",
      "\n",
      "See the caveats in the documentation: https://pandas.pydata.org/pandas-docs/stable/user_guide/indexing.html#returning-a-view-versus-a-copy\n",
      "  mismatched_cases['Distance Difference'] = mismatched_cases.apply(\n"
     ]
    },
    {
     "data": {
      "text/html": [
       "<div>\n",
       "<style scoped>\n",
       "    .dataframe tbody tr th:only-of-type {\n",
       "        vertical-align: middle;\n",
       "    }\n",
       "\n",
       "    .dataframe tbody tr th {\n",
       "        vertical-align: top;\n",
       "    }\n",
       "\n",
       "    .dataframe thead th {\n",
       "        text-align: right;\n",
       "    }\n",
       "</style>\n",
       "<table border=\"1\" class=\"dataframe\">\n",
       "  <thead>\n",
       "    <tr style=\"text-align: right;\">\n",
       "      <th></th>\n",
       "      <th>Distance</th>\n",
       "      <th>AVG Reading</th>\n",
       "      <th>AQI Category</th>\n",
       "      <th>Matches Simulation</th>\n",
       "      <th>Distance Difference</th>\n",
       "    </tr>\n",
       "  </thead>\n",
       "  <tbody>\n",
       "    <tr>\n",
       "      <th>1</th>\n",
       "      <td>150.0</td>\n",
       "      <td>479.5</td>\n",
       "      <td>Hazardous</td>\n",
       "      <td>False</td>\n",
       "      <td>30.0</td>\n",
       "    </tr>\n",
       "    <tr>\n",
       "      <th>2</th>\n",
       "      <td>200.0</td>\n",
       "      <td>270.0</td>\n",
       "      <td>Hazardous</td>\n",
       "      <td>False</td>\n",
       "      <td>80.0</td>\n",
       "    </tr>\n",
       "    <tr>\n",
       "      <th>3</th>\n",
       "      <td>200.0</td>\n",
       "      <td>229.5</td>\n",
       "      <td>Hazardous</td>\n",
       "      <td>False</td>\n",
       "      <td>80.0</td>\n",
       "    </tr>\n",
       "  </tbody>\n",
       "</table>\n",
       "</div>"
      ],
      "text/plain": [
       "   Distance AVG Reading AQI Category Matches Simulation  Distance Difference\n",
       "1     150.0       479.5    Hazardous              False                 30.0\n",
       "2     200.0       270.0    Hazardous              False                 80.0\n",
       "3     200.0       229.5    Hazardous              False                 80.0"
      ]
     },
     "execution_count": 6,
     "metadata": {},
     "output_type": "execute_result"
    }
   ],
   "source": [
    "# Calculating how far off the simulation is for mismatched cases\n",
    "def calculate_distance_difference(aqi_category, actual_distance):\n",
    "    # If the actual distance or AQI category is unknown, return None\n",
    "    if pd.isnull(actual_distance) or aqi_category == 'Beyond Index' or aqi_category == 'Unknown':\n",
    "        return None\n",
    "    # Get the simulation boundary distance for the AQI category\n",
    "    sim_distance = distance_categories.get(aqi_category, 0)\n",
    "    # Calculate the difference\n",
    "    return actual_distance - sim_distance\n",
    "\n",
    "mismatched_cases = site_1_data[site_1_data['Matches Simulation'] == False]\n",
    "mismatched_cases['Distance Difference'] = mismatched_cases.apply(\n",
    "    lambda row: calculate_distance_difference(row['AQI Category'], row['Distance']), axis=1)\n",
    "\n",
    "mismatched_cases[['Distance', 'AVG Reading', 'AQI Category', 'Matches Simulation', 'Distance Difference']]\n"
   ]
  },
  {
   "cell_type": "markdown",
   "metadata": {},
   "source": [
    "Our simulation only gets around 72% of air quality readings correct, with only a maximum deviation of 80ft off in the readings, which is below the size of any subgroup in the data, meaning we are at most a single subgroup off in our predictions."
   ]
  },
  {
   "cell_type": "markdown",
   "metadata": {},
   "source": [
    "#### Request for Contribution\n",
    "\n",
    "Any other contributions or validations are welcome! \n",
    "Please commit them to this same validation folder."
   ]
  },
  {
   "cell_type": "code",
   "execution_count": null,
   "metadata": {},
   "outputs": [],
   "source": []
  }
 ],
 "metadata": {
  "kernelspec": {
   "display_name": "Python 3",
   "language": "python",
   "name": "python3"
  },
  "language_info": {
   "codemirror_mode": {
    "name": "ipython",
    "version": 3
   },
   "file_extension": ".py",
   "mimetype": "text/x-python",
   "name": "python",
   "nbconvert_exporter": "python",
   "pygments_lexer": "ipython3",
   "version": "3.11.4"
  }
 },
 "nbformat": 4,
 "nbformat_minor": 2
}
